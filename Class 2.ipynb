{
 "cells": [
  {
   "cell_type": "code",
   "execution_count": 5,
   "id": "e898346a",
   "metadata": {},
   "outputs": [],
   "source": [
    "# Author: Ismail Hendryx \n",
    "# Implement a repeating function find the nth Fibonacci number. \n",
    "#Finds the index of the fibonacci sequence\n",
    "# The function accepts 3 arguments, 2 have default values.\n",
    "#The recursion begins with a single argument\n",
    "\n",
    "def fib (n_iter, x1=0, x2=1):\n",
    "    if n_iter == 1:\n",
    "        return x1\n",
    "    return fib(n_iter -1,x2,x1+x2)"
   ]
  },
  {
   "cell_type": "code",
   "execution_count": 6,
   "id": "a8692bcb",
   "metadata": {},
   "outputs": [
    {
     "data": {
      "text/plain": [
       "37889062373143906"
      ]
     },
     "execution_count": 6,
     "metadata": {},
     "output_type": "execute_result"
    }
   ],
   "source": [
    "fib(82)"
   ]
  },
  {
   "cell_type": "code",
   "execution_count": null,
   "id": "e8380976",
   "metadata": {},
   "outputs": [],
   "source": []
  },
  {
   "cell_type": "code",
   "execution_count": 61,
   "id": "4efa3c31",
   "metadata": {},
   "outputs": [],
   "source": [
    "from functools import reduce\n",
    "from math import factorial\n",
    "\n",
    "a_list = [10,17,22,31]\n",
    "\n",
    "a = reduce (lambda x,y : x*y,range(1,11))\n",
    "\n",
    "b = reduce (lambda x,y : x*y,range(1,18))\n",
    "\n",
    "aa =factorial(10)\n",
    "bb =factorial(17)\n",
    "\n",
    "#experimenting with making and using the factorial function"
   ]
  },
  {
   "cell_type": "code",
   "execution_count": 62,
   "id": "d286724c",
   "metadata": {},
   "outputs": [
    {
     "name": "stdout",
     "output_type": "stream",
     "text": [
      "3628800 355687428096000 355687428096000 3628800\n"
     ]
    }
   ],
   "source": [
    "print (a,b,bb,aa)"
   ]
  },
  {
   "cell_type": "code",
   "execution_count": null,
   "id": "0c0bf7d5",
   "metadata": {},
   "outputs": [],
   "source": []
  }
 ],
 "metadata": {
  "kernelspec": {
   "display_name": "Python 3 (ipykernel)",
   "language": "python",
   "name": "python3"
  },
  "language_info": {
   "codemirror_mode": {
    "name": "ipython",
    "version": 3
   },
   "file_extension": ".py",
   "mimetype": "text/x-python",
   "name": "python",
   "nbconvert_exporter": "python",
   "pygments_lexer": "ipython3",
   "version": "3.8.10"
  }
 },
 "nbformat": 4,
 "nbformat_minor": 5
}
